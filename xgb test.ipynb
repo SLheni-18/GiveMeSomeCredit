{
 "cells": [
  {
   "cell_type": "code",
   "execution_count": 24,
   "metadata": {
    "scrolled": true
   },
   "outputs": [],
   "source": [
    "import pandas as pd\n",
    "import numpy as np\n",
    "import matplotlib.pyplot as plt\n",
    "\n",
    "# Machine learning\n",
    "import xgboost as xgb\n",
    "from sklearn.model_selection import train_test_split\n",
    "from sklearn.metrics import roc_auc_score,roc_curve\n",
    "\n",
    "# Hyperparameters tuning\n",
    "from hyperopt import STATUS_OK, Trials, fmin, hp, tpe\n",
    "import featuretools as ft"
   ]
  },
  {
   "cell_type": "code",
   "execution_count": 2,
   "metadata": {},
   "outputs": [],
   "source": [
    "# Some hyperparameters\n",
    "SEED = 20221113\n",
    "VALID_SIZE = 0.2"
   ]
  },
  {
   "cell_type": "code",
   "execution_count": 6,
   "metadata": {},
   "outputs": [],
   "source": [
    "def data_process(df):\n",
    "    \n",
    "    df.drop_duplicates(inplace=True)\n",
    "\n",
    "    describe = df.iloc[:,1:].describe([0.01, 0.10, 0.25, 0.50, 0.75, 0.90, 0.99]).T    \n",
    "    df.MonthlyIncome.fillna(value=df.loc[df.MonthlyIncome<describe.loc['MonthlyIncome','99%']].median(), inplace=True)\n",
    "    df=df.dropna()\n",
    "    for i in describe.index:\n",
    "        df = df[df[i]<describe.loc[i,'99%']]\n",
    "    \n",
    "    df['AllNumlate']=df['NumberOfTime30-59DaysPastDueNotWorse']+df['NumberOfTime60-89DaysPastDueNotWorse']+df['NumberOfTimes90DaysLate']\n",
    "    df['Monthlypayment']=df['DebtRatio']*df['MonthlyIncome']\n",
    "    df = df.drop(['NumberOfDependents','Monthlypayment',\n",
    "               'NumberOfTime30-59DaysPastDueNotWorse'],axis=1)\n",
    "    \n",
    "    return df"
   ]
  },
  {
   "cell_type": "code",
   "execution_count": 7,
   "metadata": {},
   "outputs": [],
   "source": [
    "# delet 0 age data \n",
    "def process_data(df):\n",
    "    df.age.value_counts()\n",
    "    df.drop(df[df.age==0].index,inplace=True)\n",
    "    df.loc[df['NumberOfTime30-59DaysPastDueNotWorse']>20,'NumberOfTime30-59DaysPastDueNotWorse'] = df.loc[df['NumberOfTime30-59DaysPastDueNotWorse']>20,'NumberOfTime30-59DaysPastDueNotWorse']/5\n",
    "    df.loc[df['NumberOfTime60-89DaysPastDueNotWorse']>20,'NumberOfTime60-89DaysPastDueNotWorse'] = df.loc[df['NumberOfTime60-89DaysPastDueNotWorse']>20,'NumberOfTime60-89DaysPastDueNotWorse']/5\n",
    "    df.loc[df['NumberOfTimes90DaysLate']>20,'NumberOfTimes90DaysLate'] = df.loc[df['NumberOfTimes90DaysLate']>20,'NumberOfTimes90DaysLate']/5\n",
    "    df['NumberOfDependents'].fillna(df['NumberOfDependents'].dropna().median(),inplace = True)\n",
    "    df.reset_index(drop=True, inplace=True)\n",
    "\n",
    "    df['agegroup'] = '20-30'\n",
    "    df.loc[df['age']>30,'agegroup'] = '31-60'\n",
    "    df.loc[df['age']>60,'agegroup'] = '>60'\n",
    "\n",
    "    income1,income2,income3 = df[['agegroup','MonthlyIncome']].groupby('agegroup').median().values\n",
    "    df.loc[df['agegroup']=='20-30','MonthlyIncome'].fillna(income1[0])\n",
    "    df.loc[df['agegroup']=='31-60','MonthlyIncome'].fillna(income2[0])\n",
    "    df.loc[df['agegroup']=='>60','MonthlyIncome'].fillna(income3[0])\n",
    "    df.drop('agegroup',axis=1,inplace=True)\n",
    "    return df"
   ]
  },
  {
   "cell_type": "code",
   "execution_count": 8,
   "metadata": {},
   "outputs": [],
   "source": [
    "# Scoring functions\n",
    "\n",
    "def xgb_score(params):\n",
    "    print(\"Training with params: \")\n",
    "    print(params)\n",
    "    num_round = int(params['n_estimators'])\n",
    "    del params['n_estimators']\n",
    "    dtrain = xgb.DMatrix(x_train, label=y_train)\n",
    "    dvalid = xgb.DMatrix(x_valid, label=y_valid)\n",
    "    watchlist = [(dvalid, 'eval'), (dtrain, 'train')]\n",
    "    gbm_model = xgb.train(params, dtrain, num_round,\n",
    "                          evals=watchlist,\n",
    "                          verbose_eval=False)\n",
    "    predictions = gbm_model.predict(dvalid,\n",
    "                                    ntree_limit=gbm_model.best_iteration + 1)\n",
    "    score = roc_auc_score(y_valid, predictions)\n",
    "    # TODO: Add the importance for the selected features\n",
    "    print(\"\\tScore {0}\\n\\n\".format(score))\n",
    "    # The score function should return the loss (1-score)\n",
    "    # since the optimize function looks for the minimum\n",
    "    loss = 1 - score\n",
    "    \n",
    "    return {'loss': loss, 'status': STATUS_OK}\n"
   ]
  },
  {
   "cell_type": "code",
   "execution_count": 9,
   "metadata": {},
   "outputs": [],
   "source": [
    "# Optimization functions\n",
    "\n",
    "def xgb_optimize(\n",
    "             num, \n",
    "             random_state=SEED):\n",
    "    \"\"\"\n",
    "    This is the optimization function that given a space (space here) of \n",
    "    hyperparameters and a scoring function (score here), finds the best hyperparameters.\n",
    "    \"\"\"\n",
    "    space = {\n",
    "        'n_estimators': hp.quniform('n_estimators', 200, 1000, 1),\n",
    "        'eta': hp.quniform('eta', 0.01, 0.5, 0.025),\n",
    "        'max_delta_step': hp.quniform('max_delta_step',1,3,0.25),\n",
    "        'max_depth':  hp.choice('max_depth', np.arange(2, 12, dtype=int)),\n",
    "        'min_child_weight': hp.quniform('min_child_weight', 1, 10, 1),\n",
    "        'subsample': hp.quniform('subsample', 0.5,  1, 0.05),\n",
    "        'gamma': hp.quniform('gamma', 0.5, 1, 0.05),\n",
    "        'colsample_bytree': hp.quniform('colsample_bytree', 0.1, 1, 0.05),\n",
    "        'eval_metric': 'auc',\n",
    "        'objective': 'binary:logistic',\n",
    "        'booster': 'gbtree',\n",
    "        'tree_method': 'exact',\n",
    "        'seed': random_state\n",
    "    }\n",
    "\n",
    "    best = fmin(xgb_score, space, algo=tpe.suggest, \n",
    "                max_evals=num)\n",
    "    return best"
   ]
  },
  {
   "cell_type": "code",
   "execution_count": 10,
   "metadata": {},
   "outputs": [],
   "source": [
    "def makenewvariables(df):\n",
    "    df.reset_index(drop=True, inplace=True)\n",
    "    es = ft.EntitySet(id = 'credit')\n",
    "    es.add_dataframe(dataframe_name = 'data', dataframe = df,index=\"index\")\n",
    "\n",
    "    feature_matrix, feature_defs = ft.dfs(entityset = es, target_dataframe_name = 'data',\n",
    "                                          trans_primitives = ['add_numeric', 'multiply_numeric'])\n",
    "    return feature_matrix"
   ]
  },
  {
   "cell_type": "code",
   "execution_count": 28,
   "metadata": {},
   "outputs": [],
   "source": [
    "def xgb_test(params):\n",
    "    colsample_bytree, eta, gamma,max_delta_step, max_depth, min_child_weight,n_estimators,subsample = params.values()\n",
    "    gbm_model = xgb.XGBRegressor(colsample_bytree=colsample_bytree,eta=eta,gamma=gamma,max_delta_step = max_delta_step,\n",
    "                             max_depth=int(max_depth), min_child_weight=int(min_child_weight), \n",
    "                             n_estimators=int(n_estimators), subsample=subsample)\n",
    "\n",
    "    gbm_model.fit(x_train,y_train)\n",
    "    preds = gbm_model.predict(x_valid)\n",
    "    score = roc_auc_score(y_valid, preds)\n",
    "\n",
    "    fpr, tpr, thresh_lr = roc_curve(y_valid,preds)\n",
    "    plot_roc_curve(fpr,tpr)\n",
    "    print(\"AUC = {}\".format(roc_auc_score(y_valid,preds)))\n",
    "\n",
    "    print('KS = {}'.format((tpr-fpr).max(),2),2)\n",
    "    print(f'The ACU is: {score}')\n",
    "    \n",
    "    test = pd.read_csv('data/cs-test.csv',index_col=0)\n",
    "    x_test = test.iloc[:,1:]\n",
    "    x_test = process_data(x_test)\n",
    "    x_test = makenewvariables(x_test)\n",
    "    test_preds = gbm_model.predict(x_test)\n",
    "    submission = pd.DataFrame({'Id':test.index, 'Probability': test_preds})\n",
    "    submission.loc[submission['Probability']<0,'Probability'] = 0\n",
    "    submission.loc[submission['Probability']>1,'Probability'] = 1\n",
    "    submission.to_csv('xgb_submission.csv', index=False)\n",
    "    \n",
    "    "
   ]
  },
  {
   "cell_type": "code",
   "execution_count": 20,
   "metadata": {},
   "outputs": [],
   "source": [
    "def plot_roc_curve(fpr,tpr):\n",
    "    plt.plot(fpr, tpr)\n",
    "    plt.plot([0,1],[0,1], \"k--\")\n",
    "    plt.xlabel('FPR')\n",
    "    plt.ylabel('TPR')\n"
   ]
  },
  {
   "cell_type": "code",
   "execution_count": 17,
   "metadata": {
    "scrolled": true
   },
   "outputs": [
    {
     "name": "stderr",
     "output_type": "stream",
     "text": [
      "C:\\Users\\shenl\\anaconda3\\lib\\site-packages\\featuretools\\entityset\\entityset.py:1867: UserWarning: index index not found in dataframe, creating new integer column\n",
      "  \"integer column\".format(index)\n",
      "C:\\Users\\shenl\\anaconda3\\lib\\site-packages\\featuretools\\synthesis\\deep_feature_synthesis.py:162: UserWarning: Only one dataframe in entityset, changing max_depth to 1 since deeper features cannot be created\n",
      "  \"Only one dataframe in entityset, changing max_depth to \"\n"
     ]
    },
    {
     "name": "stdout",
     "output_type": "stream",
     "text": [
      "The training set is of length:  119999\n",
      "The validation set is of length:  30000\n",
      "Training with params:                                                                                                  \n",
      "{'booster': 'gbtree', 'colsample_bytree': 0.55, 'eta': 0.1, 'eval_metric': 'auc', 'gamma': 0.65, 'max_delta_step': 3.0, 'max_depth': 11, 'min_child_weight': 4.0, 'n_estimators': 617.0, 'objective': 'binary:logistic', 'seed': 20221113, 'subsample': 1.0, 'tree_method': 'exact'}\n",
      "\tScore 0.8525958613159796                                                                                              \n",
      "\n",
      "\n",
      "Training with params:                                                                                                  \n",
      "{'booster': 'gbtree', 'colsample_bytree': 0.9, 'eta': 0.325, 'eval_metric': 'auc', 'gamma': 0.9500000000000001, 'max_delta_step': 2.5, 'max_depth': 6, 'min_child_weight': 9.0, 'n_estimators': 926.0, 'objective': 'binary:logistic', 'seed': 20221113, 'subsample': 0.9, 'tree_method': 'exact'}\n",
      " 10%|████▋                                          | 1/10 [02:20<21:06, 140.70s/trial, best loss: 0.14740413868402036]"
     ]
    },
    {
     "name": "stderr",
     "output_type": "stream",
     "text": [
      "C:\\Users\\shenl\\anaconda3\\lib\\site-packages\\xgboost\\core.py:94: UserWarning: ntree_limit is deprecated, use `iteration_range` or model slicing instead.\n",
      "  UserWarning\n",
      "\n"
     ]
    },
    {
     "name": "stdout",
     "output_type": "stream",
     "text": [
      "\tScore 0.8251967810131571                                                                                              \n",
      "\n",
      "\n",
      "Training with params:                                                                                                  \n",
      "{'booster': 'gbtree', 'colsample_bytree': 0.35000000000000003, 'eta': 0.325, 'eval_metric': 'auc', 'gamma': 0.55, 'max_delta_step': 2.0, 'max_depth': 3, 'min_child_weight': 3.0, 'n_estimators': 559.0, 'objective': 'binary:logistic', 'seed': 20221113, 'subsample': 0.8, 'tree_method': 'exact'}\n",
      " 20%|█████████▍                                     | 2/10 [05:09<20:56, 157.03s/trial, best loss: 0.14740413868402036]"
     ]
    },
    {
     "name": "stderr",
     "output_type": "stream",
     "text": [
      "C:\\Users\\shenl\\anaconda3\\lib\\site-packages\\xgboost\\core.py:94: UserWarning: ntree_limit is deprecated, use `iteration_range` or model slicing instead.\n",
      "  UserWarning\n",
      "\n"
     ]
    },
    {
     "name": "stdout",
     "output_type": "stream",
     "text": [
      "\tScore 0.8622886001319381                                                                                              \n",
      "\n",
      "\n",
      "Training with params:                                                                                                  \n",
      "{'booster': 'gbtree', 'colsample_bytree': 0.25, 'eta': 0.325, 'eval_metric': 'auc', 'gamma': 0.8, 'max_delta_step': 2.0, 'max_depth': 4, 'min_child_weight': 9.0, 'n_estimators': 732.0, 'objective': 'binary:logistic', 'seed': 20221113, 'subsample': 0.9, 'tree_method': 'exact'}\n",
      " 30%|██████████████▍                                 | 3/10 [05:52<12:14, 104.93s/trial, best loss: 0.1377113998680619]"
     ]
    },
    {
     "name": "stderr",
     "output_type": "stream",
     "text": [
      "C:\\Users\\shenl\\anaconda3\\lib\\site-packages\\xgboost\\core.py:94: UserWarning: ntree_limit is deprecated, use `iteration_range` or model slicing instead.\n",
      "  UserWarning\n",
      "\n"
     ]
    },
    {
     "name": "stdout",
     "output_type": "stream",
     "text": [
      "\tScore 0.8497606794925956                                                                                              \n",
      "\n",
      "\n",
      "Training with params:                                                                                                  \n",
      "{'booster': 'gbtree', 'colsample_bytree': 0.8, 'eta': 0.25, 'eval_metric': 'auc', 'gamma': 0.6000000000000001, 'max_delta_step': 1.25, 'max_depth': 10, 'min_child_weight': 8.0, 'n_estimators': 577.0, 'objective': 'binary:logistic', 'seed': 20221113, 'subsample': 0.8, 'tree_method': 'exact'}\n",
      " 40%|███████████████████▌                             | 4/10 [06:50<08:39, 86.62s/trial, best loss: 0.1377113998680619]"
     ]
    },
    {
     "name": "stderr",
     "output_type": "stream",
     "text": [
      "C:\\Users\\shenl\\anaconda3\\lib\\site-packages\\xgboost\\core.py:94: UserWarning: ntree_limit is deprecated, use `iteration_range` or model slicing instead.\n",
      "  UserWarning\n",
      "\n"
     ]
    },
    {
     "name": "stdout",
     "output_type": "stream",
     "text": [
      "\tScore 0.8243400038543509                                                                                              \n",
      "\n",
      "\n",
      "Training with params:                                                                                                  \n",
      "{'booster': 'gbtree', 'colsample_bytree': 0.75, 'eta': 0.225, 'eval_metric': 'auc', 'gamma': 0.7000000000000001, 'max_delta_step': 2.5, 'max_depth': 5, 'min_child_weight': 2.0, 'n_estimators': 318.0, 'objective': 'binary:logistic', 'seed': 20221113, 'subsample': 0.6000000000000001, 'tree_method': 'exact'}\n",
      " 50%|████████████████████████                        | 5/10 [09:11<08:50, 106.01s/trial, best loss: 0.1377113998680619]"
     ]
    },
    {
     "name": "stderr",
     "output_type": "stream",
     "text": [
      "C:\\Users\\shenl\\anaconda3\\lib\\site-packages\\xgboost\\core.py:94: UserWarning: ntree_limit is deprecated, use `iteration_range` or model slicing instead.\n",
      "  UserWarning\n",
      "\n"
     ]
    },
    {
     "name": "stdout",
     "output_type": "stream",
     "text": [
      "\tScore 0.8547279018503774                                                                                              \n",
      "\n",
      "\n",
      "Training with params:                                                                                                  \n",
      "{'booster': 'gbtree', 'colsample_bytree': 0.45, 'eta': 0.025, 'eval_metric': 'auc', 'gamma': 0.8500000000000001, 'max_delta_step': 1.25, 'max_depth': 7, 'min_child_weight': 4.0, 'n_estimators': 677.0, 'objective': 'binary:logistic', 'seed': 20221113, 'subsample': 0.8, 'tree_method': 'exact'}\n",
      " 60%|█████████████████████████████▍                   | 6/10 [09:53<05:38, 84.54s/trial, best loss: 0.1377113998680619]"
     ]
    },
    {
     "name": "stderr",
     "output_type": "stream",
     "text": [
      "C:\\Users\\shenl\\anaconda3\\lib\\site-packages\\xgboost\\core.py:94: UserWarning: ntree_limit is deprecated, use `iteration_range` or model slicing instead.\n",
      "  UserWarning\n",
      "\n"
     ]
    },
    {
     "name": "stdout",
     "output_type": "stream",
     "text": [
      "\tScore 0.873910885035188                                                                                               \n",
      "\n",
      "\n",
      "Training with params:                                                                                                  \n",
      "{'booster': 'gbtree', 'colsample_bytree': 0.45, 'eta': 0.275, 'eval_metric': 'auc', 'gamma': 0.9, 'max_delta_step': 1.75, 'max_depth': 7, 'min_child_weight': 7.0, 'n_estimators': 564.0, 'objective': 'binary:logistic', 'seed': 20221113, 'subsample': 0.9500000000000001, 'tree_method': 'exact'}\n",
      " 70%|███████████████████████████████████               | 7/10 [11:27<04:22, 87.62s/trial, best loss: 0.126089114964812]"
     ]
    },
    {
     "name": "stderr",
     "output_type": "stream",
     "text": [
      "C:\\Users\\shenl\\anaconda3\\lib\\site-packages\\xgboost\\core.py:94: UserWarning: ntree_limit is deprecated, use `iteration_range` or model slicing instead.\n",
      "  UserWarning\n",
      "\n"
     ]
    },
    {
     "name": "stdout",
     "output_type": "stream",
     "text": [
      "\tScore 0.8389717331283771                                                                                              \n",
      "\n",
      "\n",
      "Training with params:                                                                                                  \n",
      "{'booster': 'gbtree', 'colsample_bytree': 0.15000000000000002, 'eta': 0.2, 'eval_metric': 'auc', 'gamma': 0.7000000000000001, 'max_delta_step': 1.25, 'max_depth': 6, 'min_child_weight': 7.0, 'n_estimators': 689.0, 'objective': 'binary:logistic', 'seed': 20221113, 'subsample': 0.5, 'tree_method': 'exact'}\n",
      " 80%|████████████████████████████████████████          | 8/10 [12:49<02:51, 85.65s/trial, best loss: 0.126089114964812]"
     ]
    },
    {
     "name": "stderr",
     "output_type": "stream",
     "text": [
      "C:\\Users\\shenl\\anaconda3\\lib\\site-packages\\xgboost\\core.py:94: UserWarning: ntree_limit is deprecated, use `iteration_range` or model slicing instead.\n",
      "  UserWarning\n",
      "\n"
     ]
    },
    {
     "name": "stdout",
     "output_type": "stream",
     "text": [
      "\tScore 0.8403808189964226                                                                                              \n",
      "\n",
      "\n",
      "Training with params:                                                                                                  \n",
      "{'booster': 'gbtree', 'colsample_bytree': 0.4, 'eta': 0.15000000000000002, 'eval_metric': 'auc', 'gamma': 0.55, 'max_delta_step': 2.0, 'max_depth': 9, 'min_child_weight': 3.0, 'n_estimators': 710.0, 'objective': 'binary:logistic', 'seed': 20221113, 'subsample': 0.55, 'tree_method': 'exact'}\n",
      " 90%|█████████████████████████████████████████████     | 9/10 [13:46<01:16, 76.65s/trial, best loss: 0.126089114964812]"
     ]
    },
    {
     "name": "stderr",
     "output_type": "stream",
     "text": [
      "C:\\Users\\shenl\\anaconda3\\lib\\site-packages\\xgboost\\core.py:94: UserWarning: ntree_limit is deprecated, use `iteration_range` or model slicing instead.\n",
      "  UserWarning\n",
      "\n"
     ]
    },
    {
     "name": "stdout",
     "output_type": "stream",
     "text": [
      "\tScore 0.8283296999290819                                                                                              \n",
      "\n",
      "\n",
      "100%|█████████████████████████████████████████████████| 10/10 [15:37<00:00, 93.73s/trial, best loss: 0.126089114964812]\n",
      "The best hyperparameters are:  \n",
      "\n",
      "{'colsample_bytree': 0.45, 'eta': 0.025, 'gamma': 0.8500000000000001, 'max_delta_step': 1.25, 'max_depth': 5, 'min_child_weight': 4.0, 'n_estimators': 677.0, 'subsample': 0.8}\n"
     ]
    },
    {
     "name": "stderr",
     "output_type": "stream",
     "text": [
      "C:\\Users\\shenl\\anaconda3\\lib\\site-packages\\xgboost\\core.py:94: UserWarning: ntree_limit is deprecated, use `iteration_range` or model slicing instead.\n",
      "  UserWarning\n",
      "\n"
     ]
    }
   ],
   "source": [
    "# Load processed data\n",
    "\n",
    "test = pd.read_csv('data/cs-test.csv',index_col=0)\n",
    "data = pd.read_csv('data/cs-training.csv',index_col=0)\n",
    "\n",
    "train_df = process_data(data)\n",
    "train_df = pd.concat((train_df.iloc[:,0],makenewvariables(train_df.iloc[:,1:])),axis=1)\n",
    "\n",
    "train, valid = train_test_split(train_df, test_size=VALID_SIZE,\n",
    "                                random_state=SEED)\n",
    "\n",
    "x_train = train.iloc[:,1:]\n",
    "x_valid = valid.iloc[:,1:]\n",
    "y_train = train.iloc[:,0]\n",
    "y_valid = valid.iloc[:,0]\n",
    "\n",
    "print('The training set is of length: ', len(train.index))\n",
    "print('The validation set is of length: ', len(valid.index))\n",
    "\n",
    "\n",
    "xgb_best_hyperparams = xgb_optimize(num = 10)\n",
    "print(\"The best hyperparameters are: \", \"\\n\")\n",
    "print(xgb_best_hyperparams)"
   ]
  },
  {
   "cell_type": "code",
   "execution_count": 29,
   "metadata": {},
   "outputs": [
    {
     "name": "stdout",
     "output_type": "stream",
     "text": [
      "AUC = 0.8746251010503876\n",
      "KS = 0.5920341501641855 2\n",
      "The ACU is: 0.8746251010503876\n"
     ]
    },
    {
     "name": "stderr",
     "output_type": "stream",
     "text": [
      "C:\\Users\\shenl\\anaconda3\\lib\\site-packages\\featuretools\\entityset\\entityset.py:1867: UserWarning: index index not found in dataframe, creating new integer column\n",
      "  \"integer column\".format(index)\n",
      "C:\\Users\\shenl\\anaconda3\\lib\\site-packages\\featuretools\\synthesis\\deep_feature_synthesis.py:162: UserWarning: Only one dataframe in entityset, changing max_depth to 1 since deeper features cannot be created\n",
      "  \"Only one dataframe in entityset, changing max_depth to \"\n"
     ]
    },
    {
     "data": {
      "image/png": "[encoded data removed]",
      "text/plain": [
       "<Figure size 432x288 with 1 Axes>"
      ]
     },
     "metadata": {
      "needs_background": "light"
     },
     "output_type": "display_data"
    }
   ],
   "source": [
    "xgb_test(xgb_best_hyperparams)"
   ]
  },
  {
   "cell_type": "code",
   "execution_count": null,
   "metadata": {},
   "outputs": [],
   "source": []
  }
 ],
 "metadata": {
  "kernelspec": {
   "display_name": "Python 3",
   "language": "python",
   "name": "python3"
  }
 },
 "nbformat": 4,
 "nbformat_minor": 4
}
